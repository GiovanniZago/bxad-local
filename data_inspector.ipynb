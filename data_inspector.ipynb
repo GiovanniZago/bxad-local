{
 "cells": [
  {
   "cell_type": "code",
   "execution_count": 3,
   "id": "188faaa6",
   "metadata": {},
   "outputs": [],
   "source": [
    "import pandas as pd\n",
    "import numpy as np\n",
    "import uproot\n",
    "\n",
    "import config"
   ]
  },
  {
   "cell_type": "code",
   "execution_count": null,
   "id": "f562775e",
   "metadata": {},
   "outputs": [],
   "source": [
    "config.set_data_path(\"/eos/cms/store/cmst3/group/daql1scout/run3/ntuples/zb/run383996/output_1000.root\")\n",
    "data = uproot.open(config.DATA_PATH + \":\" + config.DATA_TTREE).arrays()\n",
    "data.fields"
   ]
  }
 ],
 "metadata": {
  "kernelspec": {
   "display_name": "Python 3 (ipykernel)",
   "language": "python",
   "name": "python3"
  },
  "language_info": {
   "codemirror_mode": {
    "name": "ipython",
    "version": 3
   },
   "file_extension": ".py",
   "mimetype": "text/x-python",
   "name": "python",
   "nbconvert_exporter": "python",
   "pygments_lexer": "ipython3",
   "version": "3.11.9"
  }
 },
 "nbformat": 4,
 "nbformat_minor": 5
}
